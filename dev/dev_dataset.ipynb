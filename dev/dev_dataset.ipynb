{
 "cells": [
  {
   "cell_type": "code",
   "execution_count": 44,
   "metadata": {},
   "outputs": [],
   "source": [
    "from benchopt import BaseDataset, safe_import_context\n",
    "import random\n",
    "import torch\n",
    "from deepinv.physics import Denoising, GaussianNoise\n",
    "import imageio.v3 as iio\n",
    "import numpy as np\n",
    "import glob"
   ]
  },
  {
   "cell_type": "code",
   "execution_count": 45,
   "metadata": {},
   "outputs": [],
   "source": [
    "image_path = \"./../data/images/BSD/train/\"\n",
    "random_state = 27\n",
    "extension = \".png\"\n",
    "device = \"cpu\"\n",
    "sigma = 0.1\n",
    "n_samples = 10"
   ]
  },
  {
   "cell_type": "code",
   "execution_count": 46,
   "metadata": {},
   "outputs": [
    {
     "name": "stdout",
     "output_type": "stream",
     "text": [
      "022\n"
     ]
    }
   ],
   "source": [
    "it = 22\n",
    "\n",
    "print(\"{:03d}\".format(it))"
   ]
  },
  {
   "cell_type": "code",
   "execution_count": 47,
   "metadata": {},
   "outputs": [
    {
     "data": {
      "text/plain": [
       "<torch._C.Generator at 0x1093d71b0>"
      ]
     },
     "execution_count": 47,
     "metadata": {},
     "output_type": "execute_result"
    }
   ],
   "source": [
    "# Generate pseudorandom data using `numpy`.\n",
    "random.seed(random_state)\n",
    "torch.manual_seed(random_state)"
   ]
  },
  {
   "cell_type": "code",
   "execution_count": 48,
   "metadata": {},
   "outputs": [],
   "source": [
    "# Load the data\n",
    "file_list = list(glob.glob(image_path + \"*\" + extension))\n",
    "random.shuffle(file_list)"
   ]
  },
  {
   "cell_type": "code",
   "execution_count": null,
   "metadata": {},
   "outputs": [],
   "source": []
  },
  {
   "cell_type": "code",
   "execution_count": 49,
   "metadata": {},
   "outputs": [],
   "source": [
    "# Load images into a list\n",
    "gt_img_list = [] # torch.zeros(self.n_samples)\n",
    "for it in range(n_samples):\n",
    "    gt_img = np.array(\n",
    "        iio.imread(file_list[it])\n",
    "    )\n",
    "    # Scale to [0,1]\n",
    "    gt_img = (gt_img - gt_img.min())/(gt_img.max() - gt_img.min())\n",
    "\n",
    "    gt_img_list.append(gt_img)"
   ]
  },
  {
   "cell_type": "code",
   "execution_count": 50,
   "metadata": {},
   "outputs": [],
   "source": [
    "x = torch.tensor(\n",
    "    np.array(gt_img_list), dtype=torch.float32, device=device\n",
    ") \n"
   ]
  },
  {
   "cell_type": "code",
   "execution_count": 52,
   "metadata": {},
   "outputs": [
    {
     "data": {
      "text/plain": [
       "torch.Size([10, 1, 180, 180])"
      ]
     },
     "execution_count": 52,
     "metadata": {},
     "output_type": "execute_result"
    }
   ],
   "source": [
    "x[:,None,:,:].shape\n"
   ]
  },
  {
   "cell_type": "code",
   "execution_count": 38,
   "metadata": {},
   "outputs": [],
   "source": [
    "# Define the forward model\n",
    "physics = Denoising(noise=GaussianNoise(sigma))\n",
    "# Generate the observations \n",
    "y = physics(x)"
   ]
  },
  {
   "cell_type": "code",
   "execution_count": 39,
   "metadata": {},
   "outputs": [
    {
     "data": {
      "text/plain": [
       "{'x': tensor([[[0.0670, 0.0536, 0.0536,  ..., 0.1116, 0.1027, 0.0938],\n",
       "          [0.0536, 0.0446, 0.0446,  ..., 0.1027, 0.0938, 0.0893],\n",
       "          [0.0402, 0.0312, 0.0312,  ..., 0.0893, 0.0848, 0.0848],\n",
       "          ...,\n",
       "          [0.9152, 0.9330, 0.9509,  ..., 0.2679, 0.2589, 0.2500],\n",
       "          [0.9107, 0.9330, 0.9509,  ..., 0.2723, 0.2545, 0.2455],\n",
       "          [0.9152, 0.9330, 0.9509,  ..., 0.2589, 0.2679, 0.2455]],\n",
       " \n",
       "         [[0.5315, 0.5039, 0.5118,  ..., 0.5827, 0.6299, 0.5276],\n",
       "          [0.6142, 0.5551, 0.5354,  ..., 0.5866, 0.7008, 0.6181],\n",
       "          [0.6772, 0.6063, 0.5945,  ..., 0.5433, 0.6260, 0.5709],\n",
       "          ...,\n",
       "          [0.8150, 0.8465, 0.7874,  ..., 0.9252, 0.9409, 0.9213],\n",
       "          [0.7638, 0.7795, 0.7756,  ..., 0.8976, 0.8819, 0.8346],\n",
       "          [0.7402, 0.7717, 0.7677,  ..., 0.8976, 0.9291, 0.9094]],\n",
       " \n",
       "         [[0.8333, 0.8803, 0.8803,  ..., 0.4829, 0.4701, 0.5128],\n",
       "          [0.8376, 0.8761, 0.8761,  ..., 0.5214, 0.5427, 0.5427],\n",
       "          [0.8462, 0.8761, 0.8761,  ..., 0.5214, 0.5085, 0.5299],\n",
       "          ...,\n",
       "          [0.1154, 0.1325, 0.1453,  ..., 0.2821, 0.2521, 0.2051],\n",
       "          [0.1111, 0.1368, 0.1752,  ..., 0.3034, 0.2607, 0.1453],\n",
       "          [0.3034, 0.3675, 0.4359,  ..., 0.2821, 0.3034, 0.1624]],\n",
       " \n",
       "         ...,\n",
       " \n",
       "         [[0.3799, 0.3799, 0.3799,  ..., 0.3855, 0.3855, 0.3855],\n",
       "          [0.3687, 0.3631, 0.3687,  ..., 0.3855, 0.3855, 0.3855],\n",
       "          [0.3687, 0.3631, 0.3687,  ..., 0.3911, 0.3911, 0.3966],\n",
       "          ...,\n",
       "          [0.4972, 0.5028, 0.5251,  ..., 0.6034, 0.6648, 0.6257],\n",
       "          [0.4246, 0.4525, 0.4469,  ..., 0.5531, 0.6648, 0.6425],\n",
       "          [0.3743, 0.5587, 0.5698,  ..., 0.7318, 0.6872, 0.5978]],\n",
       " \n",
       "         [[0.1290, 0.1843, 0.2581,  ..., 0.7281, 0.7281, 0.7327],\n",
       "          [0.1290, 0.1843, 0.2581,  ..., 0.7189, 0.7327, 0.7281],\n",
       "          [0.1336, 0.1843, 0.2627,  ..., 0.7235, 0.7373, 0.7327],\n",
       "          ...,\n",
       "          [0.3134, 0.3088, 0.3088,  ..., 0.2995, 0.3272, 0.3088],\n",
       "          [0.3088, 0.3041, 0.3180,  ..., 0.3088, 0.3180, 0.3548],\n",
       "          [0.3134, 0.3134, 0.3226,  ..., 0.3594, 0.3318, 0.3733]],\n",
       " \n",
       "         [[0.5779, 0.4959, 0.4713,  ..., 0.4262, 0.3893, 0.3443],\n",
       "          [0.5656, 0.5000, 0.4959,  ..., 0.4754, 0.4139, 0.3525],\n",
       "          [0.5533, 0.5041, 0.5082,  ..., 0.4672, 0.3975, 0.3361],\n",
       "          ...,\n",
       "          [0.3320, 0.0943, 0.0943,  ..., 0.2172, 0.3402, 0.2049],\n",
       "          [0.2623, 0.1475, 0.1475,  ..., 0.1721, 0.2787, 0.1926],\n",
       "          [0.1475, 0.1352, 0.1311,  ..., 0.1270, 0.1311, 0.1066]]]),\n",
       " 'y': tensor([[[ 0.2435,  0.0602,  0.0465,  ...,  0.2564, -0.0203, -0.0486],\n",
       "          [ 0.0199, -0.0121,  0.1507,  ...,  0.0453,  0.0033,  0.0077],\n",
       "          [ 0.0495,  0.0771,  0.1759,  ...,  0.0513, -0.0386,  0.1553],\n",
       "          ...,\n",
       "          [ 0.8290,  0.9391,  0.8053,  ...,  0.1037,  0.2614,  0.2181],\n",
       "          [ 1.0229,  0.7879,  0.9224,  ...,  0.2093,  0.3079,  0.1927],\n",
       "          [ 1.1855,  0.7523,  0.9995,  ...,  0.3610,  0.4805,  0.1665]],\n",
       " \n",
       "         [[ 0.5797,  0.3773,  0.5050,  ...,  0.6660,  0.6845,  0.5112],\n",
       "          [ 0.5655,  0.5891,  0.4825,  ...,  0.3736,  0.6432,  0.6515],\n",
       "          [ 0.6179,  0.5924,  0.5814,  ...,  0.4293,  0.7131,  0.6889],\n",
       "          ...,\n",
       "          [ 0.6609,  0.7561,  0.8998,  ...,  0.7455,  0.9214,  1.0005],\n",
       "          [ 0.7674,  0.9352,  0.6577,  ...,  0.9410,  0.8660,  0.6610],\n",
       "          [ 0.6899,  0.9413,  0.8730,  ...,  0.8087,  0.9231,  1.0318]],\n",
       " \n",
       "         [[ 0.9346,  0.9496,  0.9222,  ...,  0.5969,  0.4608,  0.4505],\n",
       "          [ 0.8844,  0.9713,  0.8412,  ...,  0.5453,  0.4907,  0.4363],\n",
       "          [ 0.7406,  0.9067,  0.8653,  ...,  0.5814,  0.5795,  0.4692],\n",
       "          ...,\n",
       "          [ 0.2581,  0.0177,  0.1599,  ...,  0.2380,  0.3267,  0.1925],\n",
       "          [ 0.1296,  0.0892,  0.2950,  ...,  0.2672,  0.1851,  0.2555],\n",
       "          [ 0.3826,  0.3281,  0.4145,  ...,  0.1314,  0.1288,  0.2195]],\n",
       " \n",
       "         ...,\n",
       " \n",
       "         [[ 0.3197,  0.2991,  0.4047,  ...,  0.4842,  0.5145,  0.3989],\n",
       "          [ 0.3188,  0.3465,  0.2937,  ...,  0.5188,  0.3218,  0.3349],\n",
       "          [ 0.2287,  0.4171,  0.5277,  ...,  0.3763,  0.3076,  0.2734],\n",
       "          ...,\n",
       "          [ 0.4263,  0.6057,  0.6237,  ...,  0.6738,  0.5852,  0.7505],\n",
       "          [ 0.4600,  0.1936,  0.4350,  ...,  0.5856,  0.6199,  0.6654],\n",
       "          [ 0.3583,  0.4617,  0.5088,  ...,  0.5617,  0.6034,  0.7031]],\n",
       " \n",
       "         [[ 0.1604,  0.2882,  0.2073,  ...,  0.6763,  0.9296,  0.7923],\n",
       "          [ 0.1439,  0.1728,  0.4018,  ...,  0.6870,  0.8748,  0.6994],\n",
       "          [ 0.0431,  0.1297,  0.2107,  ...,  0.8478,  0.5570,  0.7494],\n",
       "          ...,\n",
       "          [ 0.3270,  0.4340,  0.3641,  ...,  0.4615,  0.3812,  0.3586],\n",
       "          [ 0.2823,  0.2554,  0.3185,  ...,  0.3524,  0.2547,  0.3975],\n",
       "          [ 0.2166,  0.3432,  0.2489,  ...,  0.3442,  0.4214,  0.3625]],\n",
       " \n",
       "         [[ 0.6670,  0.2842,  0.5085,  ...,  0.5064,  0.4881,  0.3605],\n",
       "          [ 0.7882,  0.4415,  0.3991,  ...,  0.4674,  0.2550,  0.3850],\n",
       "          [ 0.5139,  0.3785,  0.4810,  ...,  0.4418,  0.5389,  0.2019],\n",
       "          ...,\n",
       "          [ 0.3520,  0.1306,  0.1164,  ...,  0.1965,  0.2678,  0.3914],\n",
       "          [ 0.3066,  0.0629,  0.2050,  ...,  0.2092,  0.2296,  0.3573],\n",
       "          [ 0.0057,  0.1565,  0.1037,  ...,  0.0102,  0.1839,  0.0357]]]),\n",
       " 'physics': Denoising(\n",
       "   (noise_model): GaussianNoise()\n",
       " )}"
      ]
     },
     "execution_count": 39,
     "metadata": {},
     "output_type": "execute_result"
    }
   ],
   "source": [
    "dict(x=x, y=y, physics=physics)"
   ]
  },
  {
   "cell_type": "code",
   "execution_count": 43,
   "metadata": {},
   "outputs": [
    {
     "data": {
      "text/plain": [
       "torch.Size([10, 180, 180])"
      ]
     },
     "execution_count": 43,
     "metadata": {},
     "output_type": "execute_result"
    }
   ],
   "source": [
    "x.shape"
   ]
  },
  {
   "cell_type": "code",
   "execution_count": 41,
   "metadata": {},
   "outputs": [
    {
     "data": {
      "text/plain": [
       "torch.Size([10, 180, 180])"
      ]
     },
     "execution_count": 41,
     "metadata": {},
     "output_type": "execute_result"
    }
   ],
   "source": [
    "y.shape"
   ]
  },
  {
   "cell_type": "code",
   "execution_count": 42,
   "metadata": {},
   "outputs": [
    {
     "data": {
      "text/plain": [
       "Denoising(\n",
       "  (noise_model): GaussianNoise()\n",
       ")"
      ]
     },
     "execution_count": 42,
     "metadata": {},
     "output_type": "execute_result"
    }
   ],
   "source": [
    "physics"
   ]
  },
  {
   "cell_type": "code",
   "execution_count": null,
   "metadata": {},
   "outputs": [],
   "source": []
  }
 ],
 "metadata": {
  "kernelspec": {
   "display_name": "benchopt",
   "language": "python",
   "name": "python3"
  },
  "language_info": {
   "codemirror_mode": {
    "name": "ipython",
    "version": 3
   },
   "file_extension": ".py",
   "mimetype": "text/x-python",
   "name": "python",
   "nbconvert_exporter": "python",
   "pygments_lexer": "ipython3",
   "version": "3.9.19"
  }
 },
 "nbformat": 4,
 "nbformat_minor": 2
}
